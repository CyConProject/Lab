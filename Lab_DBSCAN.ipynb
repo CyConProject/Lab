{
  "cells": [
    {
      "cell_type": "markdown",
      "metadata": {
        "id": "RI-zjpPVEXtx"
      },
      "source": [
        "<center> <a href=\"https://github.com/CyConProject?tab=repositories\">\n",
        "  <img src=\"https://github.com/CyConProject/Lab/blob/main/Figures/CyCon.png?raw=true\" alt=\"logo\" width=\"80\" >\n",
        "</a>\n",
        " </center>\n"
      ]
    },
    {
      "cell_type": "markdown",
      "metadata": {},
      "source": [
        "# DBSCAN Clustering\n",
        "\n",
        "In this lab, we will explore **DBSCAN** (Density-Based Spatial Clustering of Applications with Noise), focusing on clustering a simple, **2D synthetic** dataset. DBSCAN is particularly suited for finding clusters in data of **arbitrary shapes** and for identifying **outliers** (noise points). \n",
        "\n",
        "Imagine a construction scenario where you collect **soil compaction** and **water content** measurements at different sites. You want to group these sites by similarity and detect any anomalous readings. This is precisely the type of problem DBSCAN can handle effectively.\n",
        "\n",
        "### Objectives\n",
        "\n",
        "By the end of this lab, you will be able to:\n",
        "\n",
        "1. **Generate a 2D synthetic dataset** that mimics real-world soil measurements.  \n",
        "2. **Preprocess and scale** data for DBSCAN.  \n",
        "3. **Perform DBSCAN clustering** and extract cluster labels.  \n",
        "4. **Visualize and interpret** the resulting clusters in a 2D scatter plot.  \n",
        "5. **Identify outliers** in the data."
      ]
    },
    {
      "cell_type": "markdown",
      "metadata": {},
      "source": [
        "## Step 1: Import necessary libraries"
      ]
    },
    {
      "cell_type": "code",
      "execution_count": 236,
      "metadata": {},
      "outputs": [],
      "source": [
        "import numpy as np\n",
        "import pandas as pd\n",
        "import matplotlib.pyplot as plt\n",
        "from sklearn.cluster import DBSCAN\n",
        "from sklearn.preprocessing import StandardScaler\n",
        "\n",
        "import warnings\n",
        "warnings.filterwarnings(\"ignore\", category=DeprecationWarning)\n",
        "\n",
        "%matplotlib inline\n"
      ]
    },
    {
      "cell_type": "markdown",
      "metadata": {},
      "source": [
        "## Step 2: Create a Synthetic 2D Dataset\n",
        "\n",
        "We will simulate soil measurements with **two features**:\n",
        "\n",
        "1. **Soil_Compaction** (e.g., in g/cm³)  \n",
        "2. **Water_Content** (percentage of water by weight)\n",
        "\n",
        "We’ll generate three natural clusters plus a handful of random points acting as outliers."
      ]
    },
    {
      "cell_type": "code",
      "execution_count": 237,
      "metadata": {},
      "outputs": [
        {
          "data": {
            "text/html": [
              "<div>\n",
              "<style scoped>\n",
              "    .dataframe tbody tr th:only-of-type {\n",
              "        vertical-align: middle;\n",
              "    }\n",
              "\n",
              "    .dataframe tbody tr th {\n",
              "        vertical-align: top;\n",
              "    }\n",
              "\n",
              "    .dataframe thead th {\n",
              "        text-align: right;\n",
              "    }\n",
              "</style>\n",
              "<table border=\"1\" class=\"dataframe\">\n",
              "  <thead>\n",
              "    <tr style=\"text-align: right;\">\n",
              "      <th></th>\n",
              "      <th>Soil_Compaction</th>\n",
              "      <th>Water_Content</th>\n",
              "    </tr>\n",
              "  </thead>\n",
              "  <tbody>\n",
              "    <tr>\n",
              "      <th>0</th>\n",
              "      <td>1.239737</td>\n",
              "      <td>17.041652</td>\n",
              "    </tr>\n",
              "    <tr>\n",
              "      <th>1</th>\n",
              "      <td>1.188939</td>\n",
              "      <td>17.628682</td>\n",
              "    </tr>\n",
              "    <tr>\n",
              "      <th>2</th>\n",
              "      <td>1.251815</td>\n",
              "      <td>15.787330</td>\n",
              "    </tr>\n",
              "    <tr>\n",
              "      <th>3</th>\n",
              "      <td>1.321842</td>\n",
              "      <td>15.607587</td>\n",
              "    </tr>\n",
              "    <tr>\n",
              "      <th>4</th>\n",
              "      <td>1.181268</td>\n",
              "      <td>19.625052</td>\n",
              "    </tr>\n",
              "  </tbody>\n",
              "</table>\n",
              "</div>"
            ],
            "text/plain": [
              "   Soil_Compaction  Water_Content\n",
              "0         1.239737      17.041652\n",
              "1         1.188939      17.628682\n",
              "2         1.251815      15.787330\n",
              "3         1.321842      15.607587\n",
              "4         1.181268      19.625052"
            ]
          },
          "execution_count": 237,
          "metadata": {},
          "output_type": "execute_result"
        }
      ],
      "source": [
        "# For reproducibility\n",
        "np.random.seed(42)\n",
        "\n",
        "# Number of samples per cluster\n",
        "samples_per_cluster = 60\n",
        "\n",
        "# Define the cluster centers (Compaction, WaterContent)\n",
        "centers = [\n",
        "    (1.2, 18),  # Cluster 1: moderately compact soil, medium water content\n",
        "    (1.5, 25),  # Cluster 2: higher compaction, higher water content\n",
        "    (0.8, 9)   # Cluster 3: lower compaction, lower water content\n",
        "]\n",
        "\n",
        "# Generate clusters\n",
        "all_data = []\n",
        "for cx, cy in centers:\n",
        "    # Create points around each center using normal distribution\n",
        "    compaction = np.random.normal(cx, 0.08, samples_per_cluster)  \n",
        "    water = np.random.normal(cy, 2.0, samples_per_cluster)  \n",
        "    cluster_data = np.column_stack((compaction, water))\n",
        "    all_data.append(cluster_data)\n",
        "\n",
        "# Concatenate clusters\n",
        "all_data = np.vstack(all_data)\n",
        "\n",
        "# (Optional) Add a few random outliers\n",
        "num_outliers = 20\n",
        "outliers_compaction = np.random.uniform(low=0.5, high=2.0, size=num_outliers)\n",
        "outliers_water = np.random.uniform(low=5, high=30, size=num_outliers)\n",
        "outliers = np.column_stack((outliers_compaction, outliers_water))\n",
        "\n",
        "# Combine main data with outliers\n",
        "all_data = np.vstack([all_data, outliers])\n",
        "\n",
        "# Create DataFrame\n",
        "df = pd.DataFrame(all_data, columns=[\"Soil_Compaction\", \"Water_Content\"])\n",
        "\n",
        "# Display the first few rows\n",
        "df.head()\n"
      ]
    },
    {
      "cell_type": "markdown",
      "metadata": {},
      "source": [
        "**Why these values?** We chose plausible ranges for **soil compaction** and **water content** to illustrate the clustering. Outliers might represent unusual site conditions.\n",
        "\n",
        "## Step 3: Data Preprocessing\n",
        "\n",
        "### 3.1 Check for Missing Values\n",
        "\n",
        "It’s good practice to ensure no missing entries exist:"
      ]
    },
    {
      "cell_type": "code",
      "execution_count": 238,
      "metadata": {},
      "outputs": [
        {
          "name": "stdout",
          "output_type": "stream",
          "text": [
            "Soil_Compaction    0\n",
            "Water_Content      0\n",
            "dtype: int64\n"
          ]
        }
      ],
      "source": [
        "missing_values = df.isnull().sum()\n",
        "print(missing_values)\n"
      ]
    },
    {
      "cell_type": "markdown",
      "metadata": {},
      "source": [
        "### 3.2 Feature Scaling\n",
        "\n",
        "DBSCAN is distance-based. Features with larger numerical ranges could dominate the distance metric, so we **scale** both features:\n"
      ]
    },
    {
      "cell_type": "code",
      "execution_count": 239,
      "metadata": {},
      "outputs": [
        {
          "data": {
            "text/html": [
              "<div>\n",
              "<style scoped>\n",
              "    .dataframe tbody tr th:only-of-type {\n",
              "        vertical-align: middle;\n",
              "    }\n",
              "\n",
              "    .dataframe tbody tr th {\n",
              "        vertical-align: top;\n",
              "    }\n",
              "\n",
              "    .dataframe thead th {\n",
              "        text-align: right;\n",
              "    }\n",
              "</style>\n",
              "<table border=\"1\" class=\"dataframe\">\n",
              "  <thead>\n",
              "    <tr style=\"text-align: right;\">\n",
              "      <th></th>\n",
              "      <th>Soil_Compaction</th>\n",
              "      <th>Water_Content</th>\n",
              "    </tr>\n",
              "  </thead>\n",
              "  <tbody>\n",
              "    <tr>\n",
              "      <th>0</th>\n",
              "      <td>0.158640</td>\n",
              "      <td>-0.070251</td>\n",
              "    </tr>\n",
              "    <tr>\n",
              "      <th>1</th>\n",
              "      <td>0.005156</td>\n",
              "      <td>0.015400</td>\n",
              "    </tr>\n",
              "    <tr>\n",
              "      <th>2</th>\n",
              "      <td>0.195133</td>\n",
              "      <td>-0.253263</td>\n",
              "    </tr>\n",
              "    <tr>\n",
              "      <th>3</th>\n",
              "      <td>0.406717</td>\n",
              "      <td>-0.279488</td>\n",
              "    </tr>\n",
              "    <tr>\n",
              "      <th>4</th>\n",
              "      <td>-0.018022</td>\n",
              "      <td>0.306681</td>\n",
              "    </tr>\n",
              "  </tbody>\n",
              "</table>\n",
              "</div>"
            ],
            "text/plain": [
              "   Soil_Compaction  Water_Content\n",
              "0         0.158640      -0.070251\n",
              "1         0.005156       0.015400\n",
              "2         0.195133      -0.253263\n",
              "3         0.406717      -0.279488\n",
              "4        -0.018022       0.306681"
            ]
          },
          "execution_count": 239,
          "metadata": {},
          "output_type": "execute_result"
        }
      ],
      "source": [
        "scaler = StandardScaler()\n",
        "scaled_data = scaler.fit_transform(df[[\"Soil_Compaction\", \"Water_Content\"]])\n",
        "\n",
        "# Convert to DataFrame for convenience\n",
        "df_scaled = pd.DataFrame(scaled_data, columns=[\"Soil_Compaction\", \"Water_Content\"])\n",
        "df_scaled.head()\n"
      ]
    },
    {
      "cell_type": "markdown",
      "metadata": {},
      "source": [
        "## Step 4: DBSCAN Model Construction and Training\n",
        "\n",
        "**DBSCAN** has two key parameters:  \n",
        "1. **eps (ε)**: The radius within which points are considered neighbors.  \n",
        "2. **min_samples**: The minimum number of data points required to form a dense region.  \n",
        "\n",
        "DBSCAN starts with an unvisited point, checks its neighbors within `eps`, and if there are at least `min_samples` neighbors, it forms a cluster. Points that do not belong to any cluster are **outliers** (labeled -1).\n"
      ]
    },
    {
      "cell_type": "code",
      "execution_count": 240,
      "metadata": {},
      "outputs": [
        {
          "name": "stdout",
          "output_type": "stream",
          "text": [
            "Unique labels: [-1  0  1  2]\n"
          ]
        }
      ],
      "source": [
        "# Set DBSCAN parameters\n",
        "eps_value = 0.3\n",
        "min_samples_val = 5\n",
        "\n",
        "dbscan_model = DBSCAN(eps=eps_value, min_samples=min_samples_val)\n",
        "dbscan_model.fit(df_scaled)\n",
        "\n",
        "# Retrieve cluster labels\n",
        "labels = dbscan_model.labels_\n",
        "print(\"Unique labels:\", np.unique(labels))\n"
      ]
    },
    {
      "cell_type": "markdown",
      "metadata": {},
      "source": [
        "**Interpretation**:  \n",
        "- `labels` gives the cluster assignments for each point.  \n",
        "- A label of `-1` indicates an **outlier** point that doesn’t belong to any cluster."
      ]
    },
    {
      "cell_type": "markdown",
      "metadata": {},
      "source": [
        "## Step 5: Analyzing and Visualizing Clusters\n",
        "\n",
        "### 5.1 Determine Number of Clusters"
      ]
    },
    {
      "cell_type": "code",
      "execution_count": 241,
      "metadata": {},
      "outputs": [
        {
          "name": "stdout",
          "output_type": "stream",
          "text": [
            "Number of clusters (excluding outliers): 3\n"
          ]
        }
      ],
      "source": [
        "num_clusters = len(set(labels)) - (1 if -1 in labels else 0)\n",
        "print(f\"Number of clusters (excluding outliers): {num_clusters}\")\n"
      ]
    },
    {
      "cell_type": "markdown",
      "metadata": {},
      "source": [
        "### 5.2 Plot Clusters in 2D\n",
        "\n",
        "Let’s plot **Soil_Compaction** vs. **Water_Content**, coloring each cluster differently. Outliers (label = -1) will be shown in black.\n"
      ]
    },
    {
      "cell_type": "code",
      "execution_count": 242,
      "metadata": {},
      "outputs": [
        {
          "data": {
            "image/png": "[encoded data removed]",
            "text/plain": [
              "<Figure size 800x600 with 1 Axes>"
            ]
          },
          "metadata": {},
          "output_type": "display_data"
        }
      ],
      "source": [
        "# Attach cluster labels to the original DataFrame\n",
        "df[\"Cluster\"] = labels\n",
        "\n",
        "# Prepare color palette\n",
        "import matplotlib.colors as mcolors\n",
        "unique_labels = set(labels)\n",
        "colors_list = list(mcolors.TABLEAU_COLORS.values())\n",
        "\n",
        "plt.figure(figsize=(8, 6))\n",
        "for label in unique_labels:\n",
        "    # Black color for outliers\n",
        "    color = 'k' if label == -1 else colors_list[label % len(colors_list)]\n",
        "    cluster_data = df[df[\"Cluster\"] == label]\n",
        "    plt.scatter(\n",
        "        cluster_data[\"Soil_Compaction\"], \n",
        "        cluster_data[\"Water_Content\"],\n",
        "        c=color,\n",
        "        alpha=0.6,\n",
        "        label=('Outlier' if label == -1 else f'Cluster {label}')\n",
        "    )\n",
        "\n",
        "plt.xlabel(\"Soil Compaction (g/cm³)\")\n",
        "plt.ylabel(\"Water Content (%)\")\n",
        "plt.title(\"DBSCAN Clusters: Soil Compaction vs. Water Content\")\n",
        "plt.legend()\n",
        "plt.show()\n"
      ]
    },
    {
      "cell_type": "markdown",
      "metadata": {},
      "source": [
        "## Step 6: Outlier Detection\n",
        "\n",
        "We can see which points DBSCAN labeled as **outliers**:\n",
        "\n",
        "In construction, these might warrant further investigation (e.g., sampling error or truly exceptional site conditions).\n",
        "\n"
      ]
    },
    {
      "cell_type": "code",
      "execution_count": 243,
      "metadata": {},
      "outputs": [
        {
          "name": "stdout",
          "output_type": "stream",
          "text": [
            "Number of outliers detected: 21\n"
          ]
        },
        {
          "data": {
            "text/html": [
              "<div>\n",
              "<style scoped>\n",
              "    .dataframe tbody tr th:only-of-type {\n",
              "        vertical-align: middle;\n",
              "    }\n",
              "\n",
              "    .dataframe tbody tr th {\n",
              "        vertical-align: top;\n",
              "    }\n",
              "\n",
              "    .dataframe thead th {\n",
              "        text-align: right;\n",
              "    }\n",
              "</style>\n",
              "<table border=\"1\" class=\"dataframe\">\n",
              "  <thead>\n",
              "    <tr style=\"text-align: right;\">\n",
              "      <th></th>\n",
              "      <th>Soil_Compaction</th>\n",
              "      <th>Water_Content</th>\n",
              "      <th>Cluster</th>\n",
              "    </tr>\n",
              "  </thead>\n",
              "  <tbody>\n",
              "    <tr>\n",
              "      <th>14</th>\n",
              "      <td>1.062007</td>\n",
              "      <td>12.760510</td>\n",
              "      <td>-1</td>\n",
              "    </tr>\n",
              "    <tr>\n",
              "      <th>53</th>\n",
              "      <td>1.248934</td>\n",
              "      <td>22.926484</td>\n",
              "      <td>-1</td>\n",
              "    </tr>\n",
              "    <tr>\n",
              "      <th>89</th>\n",
              "      <td>1.523759</td>\n",
              "      <td>32.705463</td>\n",
              "      <td>-1</td>\n",
              "    </tr>\n",
              "    <tr>\n",
              "      <th>100</th>\n",
              "      <td>1.422025</td>\n",
              "      <td>29.629317</td>\n",
              "      <td>-1</td>\n",
              "    </tr>\n",
              "    <tr>\n",
              "      <th>142</th>\n",
              "      <td>0.540699</td>\n",
              "      <td>7.363559</td>\n",
              "      <td>-1</td>\n",
              "    </tr>\n",
              "  </tbody>\n",
              "</table>\n",
              "</div>"
            ],
            "text/plain": [
              "     Soil_Compaction  Water_Content  Cluster\n",
              "14          1.062007      12.760510       -1\n",
              "53          1.248934      22.926484       -1\n",
              "89          1.523759      32.705463       -1\n",
              "100         1.422025      29.629317       -1\n",
              "142         0.540699       7.363559       -1"
            ]
          },
          "execution_count": 243,
          "metadata": {},
          "output_type": "execute_result"
        }
      ],
      "source": [
        "outliers = df[df[\"Cluster\"] == -1]\n",
        "print(f\"Number of outliers detected: {len(outliers)}\")\n",
        "outliers.head()"
      ]
    },
    {
      "cell_type": "markdown",
      "metadata": {},
      "source": [
        "If you have many outliers, you may need to adjust `eps` or `min_samples` so you don’t lose too many potentially valid points."
      ]
    },
    {
      "cell_type": "markdown",
      "metadata": {},
      "source": [
        "## Step 7: Evaluating Cluster Quality\n",
        "\n",
        "Unlike supervised classification, clustering does not have simple accuracy metrics. However, we can use the **Silhouette Score** to measure how well each data point fits into its assigned cluster. A higher silhouette score (close to 1) indicates better clustering.\n"
      ]
    },
    {
      "cell_type": "code",
      "execution_count": 244,
      "metadata": {},
      "outputs": [
        {
          "name": "stdout",
          "output_type": "stream",
          "text": [
            "Silhouette Score: 0.585\n"
          ]
        }
      ],
      "source": [
        "from sklearn.metrics import silhouette_score\n",
        "\n",
        "# We only compute silhouette if there's more than 1 cluster found\n",
        "if num_clusters > 1:\n",
        "    score = silhouette_score(df_scaled, labels)\n",
        "    print(f\"Silhouette Score: {score:.3f}\")\n",
        "else:\n",
        "    print(\"Cannot compute Silhouette Score with fewer than 2 clusters.\")"
      ]
    },
    {
      "cell_type": "markdown",
      "metadata": {},
      "source": [
        "## Practice\n",
        "\n",
        "Here are some exercises to enhance your understanding:\n",
        "\n",
        "1. **Parameter Tuning**: Change the values of `eps` (e.g., 0.3, 0.6, 0.8) and `min_samples` (e.g., 3, 8) to see how they affect the number of clusters and outliers. \n",
        "\n",
        "   How does the number of clusters differ from the original run?\n"
      ]
    },
    {
      "cell_type": "code",
      "execution_count": 245,
      "metadata": {},
      "outputs": [],
      "source": [
        "### Your Code Here\n"
      ]
    },
    {
      "cell_type": "markdown",
      "metadata": {},
      "source": [
        "\n",
        "<details><summary>Click here for a sample solution</summary>\n",
        "\n",
        "```python\n",
        "# Varying eps and min_samples\n",
        "from sklearn.metrics import silhouette_score\n",
        "\n",
        "eps_values = [0.3, 0.6, 0.8]\n",
        "min_samples_list = [3, 8]\n",
        "\n",
        "for eps_v in eps_values:\n",
        "    for min_s in min_samples_list:\n",
        "        dbscan_temp = DBSCAN(eps=eps_v, min_samples=min_s)\n",
        "        dbscan_temp.fit(df_scaled)\n",
        "        temp_labels = dbscan_temp.labels_\n",
        "        n_clusters_temp = len(set(temp_labels)) - (1 if -1 in temp_labels else 0)\n",
        "        n_outliers_temp = list(temp_labels).count(-1)\n",
        "        \n",
        "        # Compute silhouette if more than 1 cluster\n",
        "        if n_clusters_temp > 1:\n",
        "            silhouette_temp = silhouette_score(df_scaled, temp_labels)\n",
        "            print(f\"eps={eps_v}, min_samples={min_s} => Clusters: {n_clusters_temp}, \"\n",
        "                  f\"Outliers: {n_outliers_temp}, Silhouette: {silhouette_temp:.3f}\")\n",
        "        else:\n",
        "            print(f\"eps={eps_v}, min_samples={min_s} => Clusters: {n_clusters_temp}, \"\n",
        "                  f\"Outliers: {n_outliers_temp}, Silhouette: N/A\")\n",
        "```\n",
        "\n",
        "\n",
        "1. **When `eps` is small** (0.3):\n",
        "   - The algorithm is *strict* about how far points can be from each other to be in the same cluster.  \n",
        "   - This typically allows multiple clusters to form (3 in this example).  \n",
        "   - Increasing `min_samples` from 3 to 8 makes DBSCAN require *denser* areas to form a cluster, so more points end up labeled as outliers (20 → 23), but it still detects 3 core clusters.\n",
        "\n",
        "2. **When `eps` is moderate** (0.6):\n",
        "   - Many points end up connected in a single region, especially when data points aren’t super spread out.  \n",
        "   - Everything merges into *1 cluster* plus some outliers.  \n",
        "   - You cannot compute a silhouette score for a **single cluster** (hence `N/A`).\n",
        "\n",
        "3. **When `eps` is large** (0.8):\n",
        "   - Points are considered neighbors even if fairly far apart, making it more likely to merge into fewer clusters.  \n",
        "   - You sometimes see 2 clusters, but if you raise `min_samples` to 8, you end up with 1 big cluster (outliers are reduced or included in that single cluster).  \n",
        "   - A silhouette score near 0.239 for 2 clusters indicates poor separation or a forced clustering structure.\n",
        "\n",
        "**Takeaway**: This demonstrates DBSCAN’s sensitivity to `eps` and `min_samples`. In a real situation, you’d choose these parameters based on domain knowledge, or tune them to maximize a metric like silhouette (while also making practical sense for your data).\n",
        "\n",
        "\n",
        "</details>"
      ]
    },
    {
      "cell_type": "markdown",
      "metadata": {},
      "source": [
        "2. **Compare with K-Means**: Perform K-Means with `n_clusters=3` (since we roughly know there are 3 main clusters). Compare cluster assignments to DBSCAN.\n",
        "\n"
      ]
    },
    {
      "cell_type": "code",
      "execution_count": 246,
      "metadata": {},
      "outputs": [],
      "source": [
        "### Your Code Here\n"
      ]
    },
    {
      "cell_type": "markdown",
      "metadata": {},
      "source": [
        "<details><summary>Click here for a sample solution</summary>\n",
        "\n",
        "```python\n",
        "\n",
        "from sklearn.cluster import KMeans\n",
        "\n",
        "# We suspect 3 main clusters\n",
        "kmeans_model = KMeans(n_clusters=3, random_state=42)\n",
        "kmeans_model.fit(df_scaled)\n",
        "kmeans_labels = kmeans_model.labels_\n",
        "\n",
        "df[\"KMeans_Cluster\"] = kmeans_labels\n",
        "\n",
        "# Quick comparison\n",
        "print(\"DBSCAN clusters:\", np.unique(df[\"Cluster\"]))\n",
        "print(\"K-Means clusters:\", np.unique(kmeans_labels))\n",
        "\n",
        "# Display how many points ended up in each cluster with each method\n",
        "print(\"\\nDBSCAN cluster counts:\")\n",
        "print(df[\"Cluster\"].value_counts())\n",
        "\n",
        "print(\"\\nK-Means cluster counts:\")\n",
        "print(df[\"KMeans_Cluster\"].value_counts())\n",
        "\n",
        "# (Optional) Evaluate Silhouette Score\n",
        "from sklearn.metrics import silhouette_score\n",
        "km_sil_score = silhouette_score(df_scaled, kmeans_labels)\n",
        "db_sil_score = silhouette_score(df_scaled, labels)\n",
        "print(f\"\\nK-Means Silhouette Score: {km_sil_score:.3f}\")\n",
        "print(f\"DBSCAN Silhouette Score: {db_sil_score:.3f}\")\n",
        "```\n",
        "\n",
        "</details>"
      ]
    },
    {
      "cell_type": "markdown",
      "metadata": {},
      "source": [
        "3. Try a different **scaling** technique, such as **MinMaxScaler**, and see if it changes the DBSCAN results. Then check whether the number of outliers or clusters changes significantly. "
      ]
    },
    {
      "cell_type": "code",
      "execution_count": 247,
      "metadata": {},
      "outputs": [],
      "source": [
        "### Your Code Here\n"
      ]
    },
    {
      "cell_type": "markdown",
      "metadata": {},
      "source": [
        "<details>\n",
        "<summary>Click here for a sample solution</summary>\n",
        "\n",
        "```python\n",
        "from sklearn.preprocessing import MinMaxScaler\n",
        "\n",
        "# Apply MinMaxScaler\n",
        "mms = MinMaxScaler()\n",
        "scaled_data_mms = mms.fit_transform(df[[\"Soil_Compaction\", \"Water_Content\"]])\n",
        "\n",
        "# Perform DBSCAN with the same eps and min_samples\n",
        "dbscan_mms = DBSCAN(eps=0.3, min_samples=5)\n",
        "dbscan_mms.fit(scaled_data_mms)\n",
        "labels_mms = dbscan_mms.labels_\n",
        "\n",
        "# Analyze results\n",
        "n_clusters_mms = len(set(labels_mms)) - (1 if -1 in labels_mms else 0)\n",
        "n_outliers_mms = list(labels_mms).count(-1)\n",
        "\n",
        "print(f\"Number of clusters with MinMaxScaler: {n_clusters_mms}\")\n",
        "print(f\"Number of outliers with MinMaxScaler: {n_outliers_mms}\")\n",
        "\n",
        "# Optional silhouette\n",
        "if n_clusters_mms > 1:\n",
        "    sil_mms = silhouette_score(scaled_data_mms, labels_mms)\n",
        "    print(f\"Silhouette Score with MinMaxScaler: {sil_mms:.3f}\")\n",
        "else:\n",
        "    print(\"Not enough clusters to compute silhouette score.\")\n",
        "```\n",
        "\n",
        "**Discussion**: Different scaling methods can produce different distance relationships among data points, which may change how DBSCAN forms clusters or identifies outliers. \n",
        "\n",
        "- **Why only one cluster?**  \n",
        "  MinMax scaling compresses all features into a [0,1] range. If the data points are not extremely spread out, this can bring them *closer together* in feature space—especially under a particular `eps`—so DBSCAN sees them as one large dense region.\n",
        "- **No outliers?**  \n",
        "  Because points are so “close,” DBSCAN can treat them all as neighbors in a single cluster.  \n",
        "- **No silhouette score?**  \n",
        "  Again, there’s only one cluster. The silhouette score needs at least two clusters to make sense.\n",
        "\n",
        "  Try it again with `eps`= 0.1.\n",
        "\n",
        "</details>\n"
      ]
    },
    {
      "cell_type": "markdown",
      "metadata": {},
      "source": [
        "## Additional Tips \n",
        "\n",
        "- **Practical Parameter Selection**: In real scenarios, use domain knowledge (e.g., typical soil property ranges) to guide `eps`. For instance, if two points differ in compaction by more than `x g/cm³`, you may not consider them neighbors.  \n",
        "- **Consider Other Distances**: For geospatial data, you might use Haversine distance. For advanced feature sets, consider using a dimensionality reduction (like PCA) **before** DBSCAN.  \n",
        "- **Double-Check Outliers**: Some “outliers” may actually be interesting or valuable anomalies worthy of further investigation rather than just noise."
      ]
    },
    {
      "cell_type": "markdown",
      "metadata": {},
      "source": [
        "In this lab, you explored **DBSCAN** on a simple, two-feature dataset. DBSCAN:\n",
        "\n",
        "- **Automatically** determines the number of clusters based on data density.  \n",
        "- Labels points that don’t belong to any dense region as **outliers**.  \n",
        "- Handles **arbitrary cluster shapes** better than many partitional methods like K-Means.\n",
        "\n",
        "This approach is highly relevant in construction tasks such as **soil site investigations**, where you may encounter localized variations and outliers due to geological anomalies. By adjusting DBSCAN’s parameters, you can refine cluster boundaries and identify points deserving deeper analysis.\n",
        "\n",
        "**Happy clustering!**"
      ]
    }
  ],
  "metadata": {
    "colab": {
      "provenance": []
    },
    "kernelspec": {
      "display_name": "Python 3",
      "name": "python3"
    },
    "language_info": {
      "codemirror_mode": {
        "name": "ipython",
        "version": 3
      },
      "file_extension": ".py",
      "mimetype": "text/x-python",
      "name": "python",
      "nbconvert_exporter": "python",
      "pygments_lexer": "ipython3",
      "version": "3.11.9"
    }
  },
  "nbformat": 4,
  "nbformat_minor": 0
}
