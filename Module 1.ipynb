{
 "cells": [
  {
   "cell_type": "markdown",
   "id": "7142d3a6",
   "metadata": {},
   "source": [
    "<center> <a href=\"https://github.com/CyConProject?tab=repositories\">\n",
    "  <img src=\"https://github.com/CyConProject/Lab/blob/main/Figures/CyCon.png?raw=true\" alt=\"logo\" width=\"80\" >\n",
    "</a>\n",
    " </center>\n",
    "\n",
    "\n",
    "## Artificial Neural Networks – Forward Propagation\n",
    "\n",
    "\n",
    "Civil infrastructure, bridges, tunnels, heavy machinery, benefits from **continuous monitoring** of vibration, strain, and temperature. By training tiny neural nets to predict “failure risk,” we can schedule maintenance *before* a major breakdown. In this lab, you’ll:\n",
    "\n",
    "* **By hand:** compute how sensor readings flow through a 2-layer network.\n",
    "* **In code:** write helper functions (`compute_z`, `relu`, `sigmoid`), build a general `forward_propagate()` routine, and test on different network shapes.\n",
    "\n",
    "> **Why by hand?** Modern frameworks like Keras hide every detail. Manually calculating every $z$ and $a$ gives you an intuitive grasp of what actually happens in each layer.\n",
    "\n",
    "\n",
    "\n",
    "### Objectives\n",
    "\n",
    "1. Manually compute weighted sums and activations for a small 2-node hidden layer network.\n",
    "2. Implement and test helper functions for $z$ and activation functions.\n",
    "3. Write `initialize_network()` and `forward_propagate()` to handle arbitrary small networks.\n",
    "4. Experiment with deeper architectures and alternative activations.\n"
   ]
  },
  {
   "cell_type": "markdown",
   "id": "db7fef76",
   "metadata": {},
   "source": [
    "## 1. Recap: Forward Propagation Theory\n",
    "\n",
    "A single neuron computes\n",
    "\n",
    "$$\n",
    "  z = \\sum_i w_i x_i + b,\n",
    "  \\quad\n",
    "  a = \\phi(z)\n",
    "$$\n",
    "\n",
    "where $\\phi$ is an activation function (e.g. ReLU or Sigmoid).\n",
    "\n",
    "**Layer by layer:**\n",
    "\n",
    "1. Inputs $\\mathbf{x}$ → hidden layer → activations $\\mathbf{a}^{(1)}$.\n",
    "2. $\\mathbf{a}^{(1)}$ → output layer → final activations $\\mathbf{a}^{(2)}$.\n",
    "\n",
    "> **Note:** ReLU($z$) = max(0, $z$). Sigmoid($z$) = $1/(1+e^{-z})$.\n",
    "\n",
    "> **Further explanation**: The Rectified Linear Unit (ReLU) activation function is popular because of its simplicity and effectiveness. By zeroing out all negative inputs, ReLU introduces sparsity into the network: any neuron receiving a negative weighted sum is effectively \"turned off.\" This sparsity helps reduce inter-neuron dependencies and makes the model less likely to overfit. Moreover, since ReLU has a constant gradient of 1 for positive values, it mitigates the vanishing gradient problem that plagues sigmoid or tanh in deep networks, ensuring stronger gradient signals during backpropagation. Finally, its piecewise-linear form is computationally efficient, requiring only a comparison with zero for each element.\n",
    "\n",
    "\n",
    "\n",
    "## 2. Part I – Manual Forward Pass\n",
    "\n",
    "### 2.1 Network Diagram\n",
    "\n",
    "\n",
    "<center>\n",
    "  <img src=\"https://github.com/CyConProject/Lab/blob/main/Figures/Slide1.JPG?raw=true\" alt=\"diagram\" width=\"700\" >\n",
    "</a>\n",
    " </center>\n",
    "\n",
    "### 2.2 Given Sensor Inputs & Parameters"
   ]
  },
  {
   "cell_type": "code",
   "execution_count": 3,
   "id": "35ec00ae",
   "metadata": {},
   "outputs": [],
   "source": [
    "import numpy as np\n",
    "\n",
    "# Sensor readings (one snapshot):\n",
    "x1, x2, x3 = 0.8,  65.0, 0.15  \n",
    "# (vibration, temperature, tilt)\n",
    "\n",
    "# Hidden-layer parameters:\n",
    "w11, w12, w13 = 0.10, -0.08, 0.05   # node₁ weights\n",
    "b1               =  0.02            # node₁ bias\n",
    "w21, w22, w23 = -0.12,  0.15, 0.03   # node₂ weights\n",
    "b2               = -0.04            # node₂ bias\n",
    "\n",
    "# Output-layer parameters:\n",
    "w31, w32       = 0.20, -0.25        # connects a₁, a₂ → output\n",
    "b3               =  0.01            # output bias"
   ]
  },
  {
   "cell_type": "markdown",
   "id": "081bea64",
   "metadata": {},
   "source": [
    "#### 2.2.1 Compute Hidden‐Layer Activations by Hand\n",
    "\n",
    "1. **Node 1:**\n",
    "\n",
    "   $$\n",
    "     z_1 = w_{11}x_1 + w_{12}x_2 + w_{13}x_3 + b_1\n",
    "   $$"
   ]
  },
  {
   "cell_type": "code",
   "execution_count": null,
   "id": "358fd15e",
   "metadata": {},
   "outputs": [],
   "source": [
    "z1 = # TODO: fill in\n",
    "a1 = max(0, z1)        # ReLU"
   ]
  },
  {
   "cell_type": "markdown",
   "id": "e46d1749",
   "metadata": {},
   "source": [
    "2. **Node 2:**\n",
    "\n",
    "   $$\n",
    "     z_2 = w_{21}x_1 + w_{22}x_2 + w_{23}x_3 + b_2\n",
    "   $$"
   ]
  },
  {
   "cell_type": "code",
   "execution_count": null,
   "id": "2d38500f",
   "metadata": {},
   "outputs": [],
   "source": [
    "z2 = # TODO: fill in\n",
    "a2 = max(0, z2)       # ReLU"
   ]
  },
  {
   "cell_type": "markdown",
   "id": "a4a15989",
   "metadata": {},
   "source": [
    "\n",
    "3. **Output Node:**\n",
    "\n",
    "   $$\n",
    "     z_3 = w_{31}a_1 + w_{32}a_2 + b_3,\n",
    "     \\quad\n",
    "     a_3 = \\frac{1}{1 + e^{-z_3}}\n",
    "   $$"
   ]
  },
  {
   "cell_type": "code",
   "execution_count": null,
   "id": "34bf1865",
   "metadata": {},
   "outputs": [],
   "source": [
    "z3 = # TODO: fill in\n",
    "a3 = 1 / (1 + np.exp(-z3))\n",
    "print(f\"Predicted risk = {a3:.4f}\")"
   ]
  },
  {
   "cell_type": "markdown",
   "id": "72c87e57",
   "metadata": {},
   "source": [
    "<details>\n",
    "<summary> Solutions (click to expand)</summary>\n",
    "\n",
    "```python\n",
    "# Hidden node 1\n",
    "z1 = w11*x1 + w12*x2 + w13*x3 + b1           # 0.10*0.8 + (-0.08)*65.0 + 0.05*0.15 + 0.02 = -5.0925\n",
    "a1 = max(0, z1)                              # = 0.0\n",
    "\n",
    "# Hidden node 2\n",
    "z2 = w21*x1 + w22*x2 + w23*x3 + b2           # -0.12*0.8 + 0.15*65.0 + 0.03*0.15 - 0.04 = 9.6185\n",
    "a2 = max(0, z2)                              # = 9.6185\n",
    "\n",
    "# Output\n",
    "z3 =  w31*a1 + w32*a2 + b3                   #   = 0.20*0 + (-0.25)*9.6185 + 0.01   ≈ -2.3946\n",
    "a3 = 1/(1 + np.exp(-z3))                     # ≈ 0.0836\n",
    "```\n",
    "\n",
    "</details>\n",
    "\n",
    "> **Note:** When ReLU “kills” a node ($a=0$), that branch contributes nothing to the next layer."
   ]
  },
  {
   "cell_type": "markdown",
   "id": "e18aafad",
   "metadata": {},
   "source": [
    "\n",
    "## 3. Part II – Helper Functions"
   ]
  },
  {
   "cell_type": "code",
   "execution_count": 4,
   "id": "0996bce9",
   "metadata": {},
   "outputs": [],
   "source": [
    "def compute_z(inputs, weights, bias):\n",
    "    \"\"\"Dot product + bias.\"\"\"\n",
    "    return np.dot(inputs, weights) + bias\n",
    "\n",
    "def relu(z):\n",
    "    \"\"\"ReLU activation.\"\"\"\n",
    "    return np.maximum(0, z)\n",
    "\n",
    "def sigmoid(z):\n",
    "    \"\"\"Sigmoid activation.\"\"\"\n",
    "    return 1.0 / (1.0 + np.exp(-z))"
   ]
  },
  {
   "cell_type": "markdown",
   "id": "f998c335",
   "metadata": {},
   "source": [
    "> **Exercise:** verify compute_z on [1,2,3] with weights [0.1,0.2,0.3] and bias 0.5. You should get $1.9$."
   ]
  },
  {
   "cell_type": "code",
   "execution_count": null,
   "id": "a682a447",
   "metadata": {},
   "outputs": [],
   "source": [
    "# To Do  "
   ]
  },
  {
   "cell_type": "markdown",
   "id": "916e6a6d",
   "metadata": {},
   "source": [
    "<details>\n",
    "<summary> Solutions (click to expand)</summary>\n",
    "\n",
    "```python\n",
    "result = compute_z(np.array([1,2,3]), np.array([0.1,0.2,0.3]), 0.5)\n",
    "print(result)  \n",
    "```\n",
    "\n",
    "</details>\n"
   ]
  },
  {
   "cell_type": "markdown",
   "id": "31f6544a",
   "metadata": {},
   "source": [
    "\n",
    "## 4. Part III – General Network Initialization\n",
    "\n",
    "In this section, we move from hard-coded weights to a fully general routine that can create any small feed-forward network. The key points are:\n",
    "\n",
    "1. **Why Random Initialization?**\n",
    "\n",
    "   * If all weights start the same, every neuron in a layer computes the same function and learns the same thing.\n",
    "   * Small random values break this symmetry, so different hidden units learn different features.\n",
    "   * Scaling by a small factor (e.g. `*0.1`) prevents activations from blowing up or vanishing immediately.\n",
    "\n",
    "2. **Layer Representation**\n",
    "   We represent the network as a Python list of “layers,” where each layer is itself a list of node‐dictionaries:\n",
    "\n",
    "   \n",
    "   ```python\n",
    "   [\n",
    "     [  # Layer 1 (hidden)\n",
    "       {'weights': array([...]), 'bias': 0.012, 'activation': relu},\n",
    "       {'weights': array([...]), 'bias':-0.053, 'activation': relu},\n",
    "       …\n",
    "     ],\n",
    "     [  # Layer 2 (output)\n",
    "       {'weights': array([...]), 'bias': 0.034, 'activation': sigmoid},\n",
    "     ]\n",
    "   ]\n",
    "   ```\n",
    "\n",
    "   Each node‐dict holds:\n",
    "\n",
    "   * **weights**: a 1D NumPy array of length = number of inputs to that layer\n",
    "   * **bias**: a scalar offset\n",
    "   * **activation**: a function handle (`relu` or `sigmoid`)\n",
    "\n",
    "3. **The `initialize_network()` Routine**\n",
    "\n",
    "   * **`np.random.seed(seed)`** ensures reproducibility: same seed → same initial weights every time.\n",
    "   * We loop first over each hidden layer size, then finally construct the output layer.\n",
    "   * `prev_size` tracks how many inputs the next layer expects."
   ]
  },
  {
   "cell_type": "code",
   "execution_count": 5,
   "id": "c6edf88a",
   "metadata": {},
   "outputs": [],
   "source": [
    "def initialize_network(num_inputs, hidden_sizes, num_outputs, seed=42):\n",
    "    \"\"\"\n",
    "    Returns a list of layers; each layer is list of node-dicts:\n",
    "      [{'weights': array, 'bias': float, 'activation': func}, …]\n",
    "    \"\"\"\n",
    "    np.random.seed(seed)\n",
    "    layers = []\n",
    "    prev_size = num_inputs\n",
    "\n",
    "    # hidden layers\n",
    "    for size in hidden_sizes:\n",
    "        layer = []\n",
    "        for _ in range(size):\n",
    "            layer.append({\n",
    "                'weights': np.random.randn(prev_size) * 0.1,\n",
    "                'bias':    np.random.randn()     * 0.1,\n",
    "                'activation': relu\n",
    "            })\n",
    "        layers.append(layer)\n",
    "        prev_size = size\n",
    "\n",
    "    # output layer\n",
    "    out_layer = []\n",
    "    for _ in range(num_outputs):\n",
    "        out_layer.append({\n",
    "            'weights': np.random.randn(prev_size) * 0.1,\n",
    "            'bias':    np.random.randn()     * 0.1,\n",
    "            'activation': sigmoid\n",
    "        })\n",
    "    layers.append(out_layer)\n",
    "    return layers"
   ]
  },
  {
   "cell_type": "markdown",
   "id": "ae828e79",
   "metadata": {},
   "source": [
    "## 5. Part IV – Forward Propagation Function\n",
    "\n",
    "Now that we can build arbitrary networks, we need a general procedure to “push” an input vector through all layers.\n",
    "\n",
    "1. **High-Level Logic**\n",
    "\n",
    "   * Each layer takes the previous layer’s activations (`inputs`) and computes new activations (`outputs`).\n",
    "   * We store the final `outputs` list and return it as the network’s prediction(s).\n",
    "\n",
    "2. **Key Steps**\n",
    "\n",
    "   * **`compute_z(inputs, weights, bias)`**: a simple dot‐product plus bias (vectorized).\n",
    "   * **Activation call**: each node’s dictionary holds its activation function; we just call it on the scalar `z`.\n",
    "   * **Debugging prints**: inserting\n",
    "\n",
    "     ```python\n",
    "     print(f\"Layer {layer_idx} outputs: {outputs}\")\n",
    "     ```\n",
    "\n",
    "     helps you verify that shapes and values behave as expected.\n",
    "\n",
    "3. **Why Copy the Input?**\n",
    "   We call `x.copy()` to guard against any in-place modifications elsewhere. It’s not strictly necessary here, but is good defensive programming.\n",
    "\n",
    "4. **Return Value**\n",
    "\n",
    "   * We return the **raw activations** of the final layer.\n",
    "   * For a single-output network, this is a list of length 1 (e.g. `[0.0836]`).\n",
    "   * If you add more output nodes (see Part VI), you’ll get a list of length = number of outputs."
   ]
  },
  {
   "cell_type": "code",
   "execution_count": 6,
   "id": "1fba6ac4",
   "metadata": {},
   "outputs": [],
   "source": [
    "def forward_propagate(network, x, debug=True):\n",
    "    \"\"\"\n",
    "    network: list of layers; x: 1D numpy array\n",
    "    Returns: list of output activations\n",
    "    \"\"\"\n",
    "    inputs = x.copy()\n",
    "    for layer_idx, layer in enumerate(network, start=1):\n",
    "        outputs = []\n",
    "        for node in layer:\n",
    "            z = compute_z(inputs, node['weights'], node['bias'])\n",
    "            a = node['activation'](z)\n",
    "            outputs.append(a)\n",
    "        if debug:\n",
    "            print(f\"Layer {layer_idx} outputs: {outputs}\")\n",
    "        inputs = np.array(outputs)\n",
    "    return outputs"
   ]
  },
  {
   "cell_type": "markdown",
   "id": "f34e7266",
   "metadata": {},
   "source": [
    "## 6. Part V – Testing Your Code\n",
    "\n",
    "1. **Initialize** a network with 3 inputs, two hidden layers $[4, 3]$, and one output.\n",
    "2. **Generate** a random sensor vector:\n",
    "\n",
    "   ```python\n",
    "   x = np.array([0.8, 65.0, 0.15])\n",
    "   ```\n",
    "3. **Forward‐propagate** and record the final risk score."
   ]
  },
  {
   "cell_type": "code",
   "execution_count": 7,
   "id": "4c622668",
   "metadata": {},
   "outputs": [
    {
     "name": "stdout",
     "output_type": "stream",
     "text": [
      "Layer 1 outputs: [0.0, 0.0, 3.435558091684762, 0.0]\n",
      "Layer 2 outputs: [0.0, 0.0, 0.0]\n",
      "Layer 3 outputs: [0.5205520365260287]\n",
      "Final failure risk: 0.5206\n"
     ]
    }
   ],
   "source": [
    "net = initialize_network(num_inputs=3, hidden_sizes=[4,3], num_outputs=1, seed=42)\n",
    "x = np.array([0.8, 65.0, 0.15])\n",
    "prediction = forward_propagate(net, x)\n",
    "print(\"Final failure risk:\", np.round(prediction[0],4))"
   ]
  },
  {
   "cell_type": "markdown",
   "id": "736e96b2",
   "metadata": {},
   "source": [
    "> **Exercise:** Run this cell twice—do you get the *same* result? (Why?)"
   ]
  },
  {
   "cell_type": "code",
   "execution_count": null,
   "id": "42ea5d7b",
   "metadata": {},
   "outputs": [],
   "source": [
    "# To Do\n"
   ]
  },
  {
   "cell_type": "markdown",
   "id": "2a1b01a9",
   "metadata": {},
   "source": [
    "<details>\n",
    "<summary> Solutions (click to expand)</summary>\n",
    "\n",
    "```python\n",
    "# Initialize and propagate twice:\n",
    "net = initialize_network(num_inputs=3, hidden_sizes=[4,3], num_outputs=1, seed=42)\n",
    "x   = np.array([0.8,65.0,0.15])\n",
    "\n",
    "pred1 = forward_propagate(net, x)\n",
    "pred2 = forward_propagate(net, x)\n",
    "\n",
    "print(\"First run: \", np.round(pred1[0],4))\n",
    "print(\"Second run:\", np.round(pred2[0],4))\n",
    "# You will see identical outputs both times.\n",
    "\n",
    "```\n",
    "\n",
    "> **Answer:** Yes—you get the same result on each run **because** we call `np.random.seed(42)` inside `initialize_network`, which fixes the weight/bias randomization.\n",
    "\n",
    "</details>\n",
    "\n",
    "\n"
   ]
  },
  {
   "cell_type": "markdown",
   "id": "badee590",
   "metadata": {},
   "source": [
    "## 7. Part VI – Experiments & Extensions\n",
    "> Look at the results of these experiments:\n",
    "1. **Change** hidden activations from ReLU → Sigmoid. How do intermediate activations change?\n",
    "2. **Add** a second output node to predict both “failure risk” and “maintenance urgency.”\n",
    "3. **Scale up:** Increase hidden layers to three of size $[5,4,3]$. What happens to the magnitude of $z$ and $a$?\n",
    "4. **Plot** the network’s output over a grid of sensor values to see the learned “risk surface.” (Bonus: use Matplotlib.)\n",
    "\n",
    "> **Note:** In real civil-engineering systems, we train weights via backpropagation on historical failure data. Here you’re only doing inference."
   ]
  },
  {
   "cell_type": "code",
   "execution_count": 12,
   "id": "e11783b0",
   "metadata": {},
   "outputs": [
    {
     "name": "stdout",
     "output_type": "stream",
     "text": [
      "Layer 1 outputs: [0.3324860218013941, 0.1915157999565726]\n",
      "Layer 2 outputs: [0.4871127913101089]\n",
      "Experiment 1 output: [0.4871127913101089]\n",
      "Layer 1 outputs: [0.0, 0.0]\n",
      "Layer 2 outputs: [0.48841663060348733, 0.45231337489964796]\n",
      "Experiment 2 outputs: [0.48841663060348733, 0.45231337489964796]\n",
      "Layer 1 outputs: [0.0, 0.0, 3.435558091684762, 0.0, 1.806730440976179]\n",
      "Layer 2 outputs: [0.0, 0.0, 0.1243590919777279, 0.20269958665152726]\n",
      "Layer 3 outputs: [0.05006119085768822, 0.04265759964542391, 0.016422188147122097]\n",
      "Layer 4 outputs: [0.473001601014144]\n",
      "Experiment 3 output: [0.473001601014144]\n"
     ]
    },
    {
     "data": {
      "image/png": "[encoded data removed]",
      "text/plain": [
       "<Figure size 640x480 with 2 Axes>"
      ]
     },
     "metadata": {},
     "output_type": "display_data"
    }
   ],
   "source": [
    "import matplotlib.pyplot as plt\n",
    "# Fixed sensor input\n",
    "x = np.array([0.8, 65.0, 0.15])\n",
    "\n",
    "# Experiment 1: Sigmoid hidden activations\n",
    "net1 = initialize_network(3, [2], 1)\n",
    "for node in net1[0]:\n",
    "    node['activation'] = sigmoid\n",
    "out1 = forward_propagate(net1, x)\n",
    "print(\"Experiment 1 output:\", out1)\n",
    "\n",
    "# Experiment 2: Two output nodes\n",
    "net2 = initialize_network(3, [2], 2)\n",
    "out2 = forward_propagate(net2, x)\n",
    "print(\"Experiment 2 outputs:\", out2)\n",
    "\n",
    "# Experiment 3: Three hidden layers [5,4,3]\n",
    "net3 = initialize_network(3, [5, 4, 3], 1)\n",
    "out3 = forward_propagate(net3, x)\n",
    "print(\"Experiment 3 output:\", out3)\n",
    "\n",
    "# Experiment 4: Plot risk surface over grid of x1 and x2 (x3 fixed)\n",
    "net4 = initialize_network(3, [5, 4, 3], 1)\n",
    "x1_vals = np.linspace(0, 1, 50)\n",
    "x2_vals = np.linspace(20, 80, 50)\n",
    "X1, X2 = np.meshgrid(x1_vals, x2_vals)\n",
    "Z = np.zeros_like(X1)\n",
    "for i in range(X1.shape[0]):\n",
    "    for j in range(X1.shape[1]):\n",
    "        inp = np.array([X1[i, j], X2[i, j], 0.15])\n",
    "        Z[i, j] = forward_propagate(net4, inp, debug=False)[0]\n",
    "\n",
    "plt.contourf(X1, X2, Z)\n",
    "plt.xlabel('x1 (vibration)')\n",
    "plt.ylabel('x2 (temperature)')\n",
    "plt.title('Failure Risk Surface (x3 = 0.15)')\n",
    "plt.colorbar(label='Risk')\n",
    "plt.show()"
   ]
  },
  {
   "cell_type": "markdown",
   "id": "0f46a79e",
   "metadata": {},
   "source": [
    "1. **Sigmoid hidden activations:**\n",
    "   Instead of ReLU zeroing out negative z’s, sigmoid maps them into (0, 1), so both hidden nodes produce small positive activations (e.g. ≈ 0.33 and 0.19) rather than 0.\n",
    "\n",
    "2. **Two‐node output head:**\n",
    "   You simply get a 2D output vector, one sigmoid for “failure risk,” one for “maintenance urgency”, each computed independently from the same hidden activations.\n",
    "\n",
    "3. **Three hidden layers [5, 4, 3]:**\n",
    "   Pre-activations $z$ tend to grow (or vanish) through successive matrix multiplies, and ReLU then sparsifies them (many zeros), making deeper nets more prone to exploding/vanishing activations without careful weight scaling.\n",
    "\n",
    "4. **Risk surface plot:**\n",
    "   Contourizing the network’s output over (x₁, x₂) shows smooth regions of high and low predicted risk, revealing how the tiny net partitions the input space into “safe” vs. “risky” zones.\n"
   ]
  }
 ],
 "metadata": {
  "kernelspec": {
   "display_name": "Python 3",
   "language": "python",
   "name": "python3"
  },
  "language_info": {
   "codemirror_mode": {
    "name": "ipython",
    "version": 3
   },
   "file_extension": ".py",
   "mimetype": "text/x-python",
   "name": "python",
   "nbconvert_exporter": "python",
   "pygments_lexer": "ipython3",
   "version": "3.9.7"
  }
 },
 "nbformat": 4,
 "nbformat_minor": 5
}
